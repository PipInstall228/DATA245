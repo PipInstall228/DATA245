{
 "cells": [
  {
   "cell_type": "code",
   "execution_count": null,
   "id": "a79db0aa",
   "metadata": {},
   "outputs": [],
   "source": [
    "import ee\n",
    "import datetime\n",
    "import pandas as pd\n",
    "import csv\n",
    "\n",
    "ee.Authenticate()\n",
    "ee.Initialize()\n",
    "\n",
    "def get_elevation_slope(lat, lon):\n",
    "    point = ee.Geometry.Point([lon, lat])\n",
    "\n",
    "    elevation_data = ee.Image('USGS/SRTMGL1_003')\n",
    "\n",
    "    slope_data = ee.Terrain.slope(elevation_data)\n",
    "\n",
    "    # Get the elevation value for the point\n",
    "    elevation_samples = elevation_data.sample(point, 30)  # 30 m native resolution of the dataset, to get the most precise value\n",
    "    if elevation_samples.size().getInfo() == 0:\n",
    "        elevation = None\n",
    "    else:\n",
    "        elevation = elevation_samples.first().get('elevation').getInfo()\n",
    "\n",
    "    # Get the slope value for the point\n",
    "    slope_samples = slope_data.sample(point, 30)\n",
    "    if slope_samples.size().getInfo() == 0:\n",
    "        slope = None\n",
    "    else:\n",
    "        slope = slope_samples.first().get('slope').getInfo()\n",
    "\n",
    "    return elevation, slope\n",
    "\n",
    "# Function to save the results to a CSV file\n",
    "def save_to_csv(filename, data):\n",
    "    with open(filename, mode='w', newline='') as csvfile:\n",
    "        writer = csv.writer(csvfile)\n",
    "        writer.writerow(['Latitude', 'Longitude', 'Elevation', 'Slope'])\n",
    "\n",
    "        for row in data:\n",
    "            writer.writerow(row)\n",
    "\n",
    "# Read the CSV file\n",
    "df = pd.read_csv(\"mapdata_wildfires.csv\")\n",
    "\n",
    "coordinates = []\n",
    "\n",
    "for _, row in df.iterrows():\n",
    "    lat = row['incident_latitude']\n",
    "    lon = row['incident_longitude']\n",
    "\n",
    "    # Create a tuple and append it to the list\n",
    "    coordinates.append((lat, lon))\n",
    "\n",
    "results = []\n",
    "\n",
    "# Iterate through the coordinate pairs and get the elevation and slope values\n",
    "for lat, lon in coordinates:\n",
    "    elevation, slope = get_elevation_slope(lat, lon)\n",
    "    print(f'Latitude: {lat}, Longitude: {lon}, Elevation: {elevation}, Slope: {slope}')\n",
    "    results.append((lat, lon, elevation, slope))\n",
    "\n",
    "# Save the results to a CSV file\n",
    "save_to_csv('elevation_slope_data_wildfires.csv', results)\n"
   ]
  },
  {
   "cell_type": "code",
   "execution_count": 2,
   "id": "dd7d9d24",
   "metadata": {},
   "outputs": [
    {
     "name": "stdout",
     "output_type": "stream",
     "text": [
      "The results were saved to a CSV file.\n"
     ]
    }
   ],
   "source": [
    "print(\"The results were saved to a CSV file.\")"
   ]
  }
 ],
 "metadata": {
  "kernelspec": {
   "display_name": "Python 3 (ipykernel)",
   "language": "python",
   "name": "python3"
  },
  "language_info": {
   "codemirror_mode": {
    "name": "ipython",
    "version": 3
   },
   "file_extension": ".py",
   "mimetype": "text/x-python",
   "name": "python",
   "nbconvert_exporter": "python",
   "pygments_lexer": "ipython3",
   "version": "3.8.16"
  }
 },
 "nbformat": 4,
 "nbformat_minor": 5
}
