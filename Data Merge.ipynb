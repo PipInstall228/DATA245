{
 "cells": [
  {
   "cell_type": "code",
   "execution_count": null,
   "id": "98d143d4",
   "metadata": {},
   "outputs": [],
   "source": [
    "import pandas as pd"
   ]
  },
  {
   "cell_type": "code",
   "execution_count": null,
   "id": "94857dd0",
   "metadata": {},
   "outputs": [],
   "source": [
    "wildfire_data = pd.read_csv(\"mapdata_wildfires.csv\")"
   ]
  },
  {
   "cell_type": "code",
   "execution_count": null,
   "id": "905a71e8",
   "metadata": {},
   "outputs": [],
   "source": [
    "wildfire_data.head()"
   ]
  },
  {
   "cell_type": "code",
   "execution_count": null,
   "id": "f95f3c1e",
   "metadata": {},
   "outputs": [],
   "source": [
    "wildfire_data.columns"
   ]
  },
  {
   "cell_type": "code",
   "execution_count": null,
   "id": "170ee93f",
   "metadata": {},
   "outputs": [],
   "source": [
    "wildfire_data_columns_to_drop = ['incident_is_final', 'incident_date_last_update', 'incident_administrative_unit',\n",
    "       'incident_administrative_unit_url', 'incident_location', 'incident_containment', 'incident_control', 'incident_cooperating_agencies','incident_type', 'incident_id', 'incident_url', 'incident_dateonly_extinguished', 'is_active', 'calfire_incident', 'notification_desired' ]"
   ]
  },
  {
   "cell_type": "code",
   "execution_count": null,
   "id": "ec0cda61",
   "metadata": {},
   "outputs": [],
   "source": [
    "wildfire_data = wildfire_data.drop(wildfire_data_columns_to_drop, axis = 1)"
   ]
  },
  {
   "cell_type": "code",
   "execution_count": null,
   "id": "35beb573",
   "metadata": {},
   "outputs": [],
   "source": [
    "wildfire_data.head()"
   ]
  },
  {
   "cell_type": "code",
   "execution_count": null,
   "id": "48fd7561",
   "metadata": {},
   "outputs": [],
   "source": [
    "wildfire_data.columns"
   ]
  },
  {
   "cell_type": "code",
   "execution_count": null,
   "id": "a3af26e7",
   "metadata": {},
   "outputs": [],
   "source": [
    "wildfire_data_column_order = ['incident_name', 'incident_county', 'incident_dateonly_created',\n",
    "                             'incident_date_created','incident_date_extinguished',  'incident_latitude',\n",
    "                             'incident_longitude', 'incident_acres_burned']"
   ]
  },
  {
   "cell_type": "code",
   "execution_count": null,
   "id": "36f3b13f",
   "metadata": {},
   "outputs": [],
   "source": [
    "wildfire_data = wildfire_data[wildfire_data_column_order]"
   ]
  },
  {
   "cell_type": "code",
   "execution_count": null,
   "id": "e0f6a2f3",
   "metadata": {},
   "outputs": [],
   "source": [
    "wildfire_data.head()"
   ]
  },
  {
   "cell_type": "code",
   "execution_count": null,
   "id": "0708da00",
   "metadata": {},
   "outputs": [],
   "source": [
    "wildfire_data.columns = ['Name', 'County', 'Date', 'Start Date and Time', 'End Date and Time', 'Latitude', 'Longitude', 'Acres Burned']"
   ]
  },
  {
   "cell_type": "code",
   "execution_count": null,
   "id": "5b3e0818",
   "metadata": {},
   "outputs": [],
   "source": [
    "wildfire_data.head()"
   ]
  },
  {
   "cell_type": "code",
   "execution_count": null,
   "id": "795b54d5",
   "metadata": {},
   "outputs": [],
   "source": [
    "wildfire_data['Start Date and Time'] = pd.to_datetime(wildfire_data['Start Date and Time'])\n",
    "wildfire_data['End Date and Time'] = pd.to_datetime(wildfire_data['End Date and Time'])\n",
    "wildfire_data['Duration'] = (wildfire_data['End Date and Time'] - wildfire_data['Start Date and Time']) / pd.Timedelta('1 day')"
   ]
  },
  {
   "cell_type": "code",
   "execution_count": null,
   "id": "26c56687",
   "metadata": {},
   "outputs": [],
   "source": [
    "wildfire_data.head()"
   ]
  },
  {
   "cell_type": "code",
   "execution_count": null,
   "id": "9a1aa16f",
   "metadata": {},
   "outputs": [],
   "source": [
    "len(wildfire_data[wildfire_data['Duration'] < 0])"
   ]
  },
  {
   "cell_type": "code",
   "execution_count": null,
   "id": "8f2725d8",
   "metadata": {},
   "outputs": [],
   "source": [
    "weather_data = pd.read_csv(\"weather_data_wildfires.csv\")"
   ]
  },
  {
   "cell_type": "code",
   "execution_count": null,
   "id": "672a8c79",
   "metadata": {},
   "outputs": [],
   "source": [
    "weather_data.head()"
   ]
  },
  {
   "cell_type": "code",
   "execution_count": null,
   "id": "71f811e7",
   "metadata": {},
   "outputs": [],
   "source": [
    "weather_data.columns"
   ]
  },
  {
   "cell_type": "code",
   "execution_count": null,
   "id": "f7cd7bab",
   "metadata": {},
   "outputs": [],
   "source": [
    "weather_data_columns_to_drop = ['Wind Chill', 'Heat Index','Precipitation Cover', 'Snow', 'Snow Depth', \n",
    "                                'Visibility','Sea Level Pressure',  'Weather Type', 'Info', 'Conditions']"
   ]
  },
  {
   "cell_type": "code",
   "execution_count": null,
   "id": "0185a9c1",
   "metadata": {},
   "outputs": [],
   "source": [
    "weather_data = weather_data.drop(weather_data_columns_to_drop, axis = 1)"
   ]
  },
  {
   "cell_type": "code",
   "execution_count": null,
   "id": "b835a19e",
   "metadata": {},
   "outputs": [],
   "source": [
    "weather_data.head()"
   ]
  },
  {
   "cell_type": "code",
   "execution_count": null,
   "id": "1cf1adab",
   "metadata": {},
   "outputs": [],
   "source": [
    "drought_index_data = pd.read_csv(\"drought_data_wildfires.csv\")\n",
    "vegatation_index_data = pd.read_csv(\"vegetation_indices_data_wildfires.csv\")\n",
    "land_cover_data = pd.read_csv(\"land_cover_data_wildfires.csv\")"
   ]
  },
  {
   "cell_type": "code",
   "execution_count": null,
   "id": "f71635c2",
   "metadata": {},
   "outputs": [],
   "source": [
    "merged_data_1 = pd.merge(wildfire_data, weather_data, on=[\"Latitude\", \"Longitude\", \"Date\"], how=\"inner\")\n",
    "\n",
    "\n",
    "merged_data_2 = pd.merge(merged_data_1, drought_index_data, on=[\"Latitude\", \"Longitude\", \"Date\"], how=\"inner\")\n",
    "\n",
    "\n",
    "merged_data_3 = pd.merge(merged_data_2, vegatation_index_data, on=[\"Latitude\", \"Longitude\", \"Date\"], how=\"inner\")\n",
    "\n",
    "\n",
    "merged_data_final = pd.merge(merged_data_3, land_cover_data, on=[\"Latitude\", \"Longitude\", \"Date\"], how=\"inner\")\n",
    "\n",
    "\n",
    "merged_data_final.head()"
   ]
  },
  {
   "cell_type": "code",
   "execution_count": null,
   "id": "bc59d60c",
   "metadata": {},
   "outputs": [],
   "source": [
    "elevation_slope_data = pd.read_csv(\"elevation_slope_data_wildfires.csv\")"
   ]
  },
  {
   "cell_type": "code",
   "execution_count": null,
   "id": "8d513bee",
   "metadata": {},
   "outputs": [],
   "source": [
    "elevation_slope_data.head()"
   ]
  },
  {
   "cell_type": "code",
   "execution_count": null,
   "id": "66eb1999",
   "metadata": {},
   "outputs": [],
   "source": [
    "elevation_slope_data.columns = [\"Latitude\", \"Longitude\",\"Elevation\",\"Slope\"]"
   ]
  },
  {
   "cell_type": "code",
   "execution_count": null,
   "id": "02a33fc8",
   "metadata": {},
   "outputs": [],
   "source": [
    "merged_data_final2 = pd.merge(merged_data_final, elevation_slope_data, on=[\"Latitude\", \"Longitude\"], how=\"inner\")"
   ]
  },
  {
   "cell_type": "code",
   "execution_count": null,
   "id": "1fc7c7cb",
   "metadata": {},
   "outputs": [],
   "source": [
    "merged_data_final2.head()"
   ]
  },
  {
   "cell_type": "code",
   "execution_count": null,
   "id": "00ae0c63",
   "metadata": {},
   "outputs": [],
   "source": [
    "merged_data_final2.reset_index(drop=True, inplace=True)"
   ]
  },
  {
   "cell_type": "code",
   "execution_count": null,
   "id": "fa94acb9",
   "metadata": {},
   "outputs": [],
   "source": [
    "merged_data_final2.info()"
   ]
  },
  {
   "cell_type": "code",
   "execution_count": null,
   "id": "588f8219",
   "metadata": {},
   "outputs": [],
   "source": [
    "merged_data_final2['Land Cover'] = merged_data_final2['Land Cover'].astype('category')"
   ]
  },
  {
   "cell_type": "code",
   "execution_count": null,
   "id": "dc0541dd",
   "metadata": {},
   "outputs": [],
   "source": [
    "merged_data_final2.info()"
   ]
  },
  {
   "cell_type": "code",
   "execution_count": null,
   "id": "062a94e5",
   "metadata": {},
   "outputs": [],
   "source": [
    "merged_data_final2.describe()"
   ]
  },
  {
   "cell_type": "code",
   "execution_count": null,
   "id": "18ffb52d",
   "metadata": {},
   "outputs": [],
   "source": [
    "# Outliers in the Acres Burned column based on the z score method\n",
    "\n",
    "from scipy import stats\n",
    "import numpy as np\n",
    "\n",
    "z_scores = np.abs(stats.zscore(merged_data_final2['Acres Burned']))\n",
    "outliers = np.where(z_scores > 2)\n",
    "\n",
    "print(outliers)\n",
    "\n",
    "outlier_values = merged_data_final2['Acres Burned'].iloc[outliers]\n",
    "print(outlier_values)"
   ]
  },
  {
   "cell_type": "code",
   "execution_count": null,
   "id": "04573c59",
   "metadata": {},
   "outputs": [],
   "source": [
    "merged_data_final2 = merged_data_final2.drop_duplicates()\n",
    "merged_data_final2.info()"
   ]
  },
  {
   "cell_type": "code",
   "execution_count": null,
   "id": "de2dbe5c",
   "metadata": {},
   "outputs": [],
   "source": [
    "merged_data_final2.to_csv(\"merged_dataset_not_cleaned.csv\", index = False)"
   ]
  },
  {
   "cell_type": "code",
   "execution_count": null,
   "id": "058bd9d4",
   "metadata": {},
   "outputs": [],
   "source": [
    "merged_data_final2.head()"
   ]
  },
  {
   "cell_type": "code",
   "execution_count": null,
   "id": "f3e4d787",
   "metadata": {},
   "outputs": [],
   "source": [
    "merged_data_final2.describe()"
   ]
  }
 ],
 "metadata": {
  "kernelspec": {
   "display_name": "Python 3 (ipykernel)",
   "language": "python",
   "name": "python3"
  },
  "language_info": {
   "codemirror_mode": {
    "name": "ipython",
    "version": 3
   },
   "file_extension": ".py",
   "mimetype": "text/x-python",
   "name": "python",
   "nbconvert_exporter": "python",
   "pygments_lexer": "ipython3",
   "version": "3.8.16"
  }
 },
 "nbformat": 4,
 "nbformat_minor": 5
}
