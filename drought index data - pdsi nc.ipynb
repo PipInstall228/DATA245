{
 "cells": [
  {
   "cell_type": "code",
   "execution_count": null,
   "id": "cb24d59e",
   "metadata": {},
   "outputs": [],
   "source": [
    "import xarray as xr\n",
    "ds = xr.open_dataset('pdsi.nc')\n",
    "print(ds)"
   ]
  },
  {
   "cell_type": "code",
   "execution_count": null,
   "id": "86886b65",
   "metadata": {},
   "outputs": [],
   "source": [
    "import xarray as xr\n",
    "import numpy as np\n",
    "import csv\n",
    "import pandas as pd\n",
    "\n",
    "def get_pdsi_from_file(file_path, lat, lon, date):\n",
    "    ds = xr.open_dataset(file_path)\n",
    "\n",
    "    # Get the nearest latitude and longitude points from the dataset\n",
    "    nearest_lat = ds['lat'].sel(lat=lat, method='nearest').values.item()\n",
    "    nearest_lon = ds['lon'].sel(lon=lon, method='nearest').values.item()\n",
    "    \n",
    "   # Custom function to find the nearest date prior to the provided date\n",
    "    def find_nearest_date(array, date):\n",
    "        array = pd.to_datetime(array)\n",
    "        idx = np.searchsorted(array, date, side='right') - 1\n",
    "        return array[idx]\n",
    "\n",
    "    \n",
    "    date = pd.Timestamp(date)\n",
    "    nearest_date = find_nearest_date(ds['day'].values, date)\n",
    "\n",
    "    # Get the PDSI data for the nearest date and coordinates\n",
    "    pdsi_data = ds['pdsi'].sel(day=nearest_date, lat=nearest_lat, lon=nearest_lon).values.item()\n",
    "\n",
    "    if not np.isnan(pdsi_data):\n",
    "        return pdsi_data\n",
    "    else:\n",
    "        return None\n",
    "\n",
    "\n",
    "df = pd.read_csv(\"mapdata_wildfires.csv\")\n",
    "\n",
    "\n",
    "# List of coordinates and dates\n",
    "coordinates_and_dates = []\n",
    "\n",
    "for _, row in df.iterrows():\n",
    "    lat = row['incident_latitude']\n",
    "    lon = row['incident_longitude']\n",
    "    date_created = row['incident_dateonly_created']\n",
    "    \n",
    "    # Create a tuple and append it to the list\n",
    "    coordinates_and_dates.append((lat, lon, date_created))\n",
    "\n",
    "\n",
    "file_path = 'pdsi.nc'\n",
    "\n",
    "# CSV output file name\n",
    "csv_output_file = 'drought_data_wildfires.csv'\n",
    "\n",
    "# Fetch PDSI data for each coordinate and date and write to a CSV file\n",
    "with open(csv_output_file, 'w', newline='') as csvfile:\n",
    "    csv_writer = csv.writer(csvfile)\n",
    "    csv_writer.writerow(['Latitude', 'Longitude', 'Date', 'PDSI'])\n",
    "\n",
    "    for coord_date in coordinates_and_dates:\n",
    "        lat = coord_date[0]\n",
    "        lon = coord_date[1]\n",
    "        date = coord_date[2]\n",
    "\n",
    "        pdsi = get_pdsi_from_file(file_path, lat, lon, date)\n",
    "        csv_writer.writerow([lat, lon, date, pdsi])\n",
    "\n",
    "print(f\"PDSI data has been written to {csv_output_file}\")\n"
   ]
  },
  {
   "cell_type": "code",
   "execution_count": null,
   "id": "e8aacbae",
   "metadata": {},
   "outputs": [],
   "source": []
  }
 ],
 "metadata": {
  "kernelspec": {
   "display_name": "Python 3 (ipykernel)",
   "language": "python",
   "name": "python3"
  },
  "language_info": {
   "codemirror_mode": {
    "name": "ipython",
    "version": 3
   },
   "file_extension": ".py",
   "mimetype": "text/x-python",
   "name": "python",
   "nbconvert_exporter": "python",
   "pygments_lexer": "ipython3",
   "version": "3.8.16"
  }
 },
 "nbformat": 4,
 "nbformat_minor": 5
}
