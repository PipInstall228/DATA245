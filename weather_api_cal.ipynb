{
 "cells": [
  {
   "cell_type": "code",
   "execution_count": null,
   "id": "8991521e",
   "metadata": {},
   "outputs": [],
   "source": [
    "import pandas as pd"
   ]
  },
  {
   "cell_type": "code",
   "execution_count": null,
   "id": "69c86b68",
   "metadata": {},
   "outputs": [],
   "source": [
    "df = pd.read_csv(\"mapdata_wildfires.csv\")"
   ]
  },
  {
   "cell_type": "code",
   "execution_count": null,
   "id": "37206ab0",
   "metadata": {},
   "outputs": [],
   "source": [
    "coordinates_and_dates = []\n",
    "\n",
    "for _, row in df.iterrows():\n",
    "    lat = row['incident_latitude']\n",
    "    lon = row['incident_longitude']\n",
    "    date_created = row['incident_dateonly_created']\n",
    "    \n",
    "    # Create a tuple and append it to the list\n",
    "    coordinates_and_dates.append((lat, lon, date_created))"
   ]
  },
  {
   "cell_type": "code",
   "execution_count": null,
   "id": "bf5a6f81",
   "metadata": {},
   "outputs": [],
   "source": [
    "import requests\n",
    "\n",
    "def get_weather_data(api_key, lat, lon, date):\n",
    "    base_url = \"https://weather.visualcrossing.com/VisualCrossingWebServices/rest/services/weatherdata/history\"\n",
    "    \n",
    "    params = {\n",
    "        \"aggregateHours\": \"24\",\n",
    "        \"startDateTime\": date,\n",
    "        \"endDateTime\": date,\n",
    "        \"unitGroup\": \"us\",\n",
    "        \"contentType\": \"csv\",\n",
    "        \"dayStartTime\": \"0:0:00\",\n",
    "        \"dayEndTime\": \"0:0:00\",\n",
    "        \"locationMode\": \"singlelatlong\",\n",
    "        \"key\": api_key,\n",
    "        \"dataElements\": \"all\",\n",
    "        \"locations\": f\"{lat},{lon}\"\n",
    "    }\n",
    "\n",
    "    response = requests.get(base_url, params=params)\n",
    "\n",
    "    if response.status_code == 200:\n",
    "        return response.text\n",
    "    else:\n",
    "        print(f\"Error fetching data: {response.status_code}\")\n",
    "        return None\n",
    "\n",
    "api_key = \"\" \n",
    "\n",
    "\n",
    "# Create a new CSV file and write the results\n",
    "with open(\"weather_data_wildfires_intermediate.csv\", \"w\") as csvfile:\n",
    "    header_written = False\n",
    "    for lat, lon, date in coordinates_and_dates:\n",
    "        weather_data = get_weather_data(api_key, lat, lon, date)\n",
    "        if weather_data:\n",
    "            lines = weather_data.strip().split(\"\\n\")\n",
    "            if not header_written:\n",
    "                # Write header with \"Latitude\", \"Longitude\", \"Date\" added to the front\n",
    "                csvfile.write(\"Latitude,Longitude,Date,\" + lines[0] + \"\\n\")\n",
    "                header_written = True\n",
    "            \n",
    "            if len(lines) < 2:\n",
    "                print(f\"No data found for {lat}, {lon} on {date}. Will continue with the next record\")\n",
    "                csvfile.write(f\"{lat},{lon},{date},None\\n\") # Can comment this line out if missing record should not be included in the CSV file\n",
    "                continue\n",
    "            \n",
    "            data_line = lines[1]\n",
    "            # Split the data line into fields and remove the first three fields (Address, Address Type, Resolved Address)\n",
    "            data_fields = data_line.split(\",\")[3:]\n",
    "            \n",
    "            # Write the latitude, longitude, date, and the rest of the weather data to the CSV file\n",
    "            csvfile.write(f\"{lat},{lon},{date},{','.join(data_fields)}\\n\")\n",
    "\n",
    "print(\"Weather data exported to weather_data_wildfires_intermediate.csv\")"
   ]
  },
  {
   "cell_type": "code",
   "execution_count": null,
   "id": "60ad7d2b",
   "metadata": {},
   "outputs": [],
   "source": [
    "# Fix the errors and remove irrelevant features from the weather_data_wildfires_intermediate dataset\n",
    "\n",
    "weather_data_wildfires = pd.read_csv('weather_data_wildfires_intermediate.csv')\n",
    "\n",
    "weather_data_wildfires = weather_data_wildfires.drop(['Address', 'Latitude.1', 'Longitude.1',\n",
    "       'Name'], axis = 1)\n",
    "\n",
    "weather_data_wildfires = weather_data_wildfires.iloc[:,:-2]\n",
    "\n",
    "weather_data_wildfires.columns = ['Latitude', 'Longitude', 'Date',\n",
    "       'Maximum Temperature', 'Minimum Temperature', 'Temperature',\n",
    "       'Dew Point', 'Wind Chill', 'Heat Index', 'Precipitation',\n",
    "       'Precipitation Cover', 'Snow', 'Snow Depth', 'Wind Speed', 'Wind Gust',\n",
    "       'Wind Direction', 'Visibility', 'Cloud Cover', 'Relative Humidity',\n",
    "       'Sea Level Pressure', 'Solar Radiation', 'Solar Energy', 'Weather Type',\n",
    "       'Info', 'Conditions']\n",
    "\n",
    "weather_data_wildfires.to_csv(\"weather_data_wildfires.csv\", index = False)\n",
    "\n",
    "print(\"Weather data exported to weather_data_wildfires.csv\")"
   ]
  }
 ],
 "metadata": {
  "kernelspec": {
   "display_name": "Python 3 (ipykernel)",
   "language": "python",
   "name": "python3"
  },
  "language_info": {
   "codemirror_mode": {
    "name": "ipython",
    "version": 3
   },
   "file_extension": ".py",
   "mimetype": "text/x-python",
   "name": "python",
   "nbconvert_exporter": "python",
   "pygments_lexer": "ipython3",
   "version": "3.8.16"
  }
 },
 "nbformat": 4,
 "nbformat_minor": 5
}
